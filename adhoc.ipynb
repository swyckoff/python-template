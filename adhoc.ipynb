{
 "cells": [
  {
   "cell_type": "code",
   "execution_count": 20,
   "metadata": {},
   "outputs": [
    {
     "name": "stdout",
     "output_type": "stream",
     "text": [
      "'System Path:'\n",
      "['/opt/homebrew/Caskroom/miniforge/base/envs/py3.12/lib/python3.12/site-packages/_pdbpp_path_hack',\n",
      " '/opt/homebrew/Caskroom/miniforge/base/envs/py3.12/lib/python312.zip',\n",
      " '/opt/homebrew/Caskroom/miniforge/base/envs/py3.12/lib/python3.12',\n",
      " '/opt/homebrew/Caskroom/miniforge/base/envs/py3.12/lib/python3.12/lib-dynload',\n",
      " '',\n",
      " '/opt/homebrew/Caskroom/miniforge/base/envs/py3.12/lib/python3.12/site-packages',\n",
      " '/Users/vida/dev/interview/prep/src',\n",
      " '/Users/vida/dev/interview/prep/src',\n",
      " '/Users/vida/dev/interview/prep/src',\n",
      " '/Users/vida/dev/interview/prep/src',\n",
      " '/Users/vida/dev/interview/prep/src']\n",
      "'OS:'\n",
      "'/Users/vida/dev/interview/prep'\n",
      "'Dir:'\n",
      "['LICENSE',\n",
      " 'requirements.txt',\n",
      " 'pyproject.toml',\n",
      " '.editorconfig',\n",
      " 'README.md',\n",
      " 'requirements-dev.txt',\n",
      " '.mypy_cache',\n",
      " '.gitignore',\n",
      " 'adhoc.ipynb',\n",
      " '.prettierrc',\n",
      " 'poetry.lock',\n",
      " '.vscode',\n",
      " 'src']\n"
     ]
    }
   ],
   "source": [
    "from colorama import Fore, Style\n",
    "\n",
    "# Setup path\n",
    "import os\n",
    "import sys\n",
    "sys.path.append(os.path.abspath(os.path.join(os.getcwd(), \"src\")))\n",
    "\n",
    "def pp(arg1, arg2):\n",
    "    from pprint import pp as print\n",
    "    print(arg1)\n",
    "    if arg2:\n",
    "        print(arg2)\n",
    "\n",
    "def check_env():\n",
    "    from pprint import pp as print\n",
    "    pp('System Path:', sys.path)\n",
    "    pp('OS:', os.getcwd())\n",
    "    pp('Dir:', os.listdir())\n",
    "\n",
    "check_env()"
   ]
  },
  {
   "cell_type": "code",
   "execution_count": 21,
   "metadata": {},
   "outputs": [
    {
     "name": "stdout",
     "output_type": "stream",
     "text": [
      "Variable    Type         Data/Info\n",
      "----------------------------------\n",
      "Fore        AnsiFore     <colorama.ansi.AnsiFore object at 0x1078493d0>\n",
      "Style       AnsiStyle    <colorama.ansi.AnsiStyle object at 0x1078780e0>\n",
      "check_env   function     <function check_env at 0x1076e8220>\n",
      "importlib   module       <module 'importlib' from <...>2/importlib/__init__.py'>\n",
      "os          module       <module 'os' (frozen)>\n",
      "pp          function     <function pp at 0x108b7cc20>\n",
      "prep        module       <module 'prep' from '/Use<...>ep/src/prep/__init__.py'>\n",
      "print       function     <function pp at 0x10496e200>\n",
      "sys         module       <module 'sys' (built-in)>\n"
     ]
    }
   ],
   "source": [
    "%whos"
   ]
  },
  {
   "cell_type": "code",
   "execution_count": 16,
   "metadata": {},
   "outputs": [],
   "source": [
    "import importlib\n",
    "# importlib.reload(prep)"
   ]
  }
 ],
 "metadata": {
  "kernelspec": {
   "display_name": "py3.12",
   "language": "python",
   "name": "python3"
  },
  "language_info": {
   "codemirror_mode": {
    "name": "ipython",
    "version": 3
   },
   "file_extension": ".py",
   "mimetype": "text/x-python",
   "name": "python",
   "nbconvert_exporter": "python",
   "pygments_lexer": "ipython3",
   "version": "3.12.7"
  }
 },
 "nbformat": 4,
 "nbformat_minor": 2
}
